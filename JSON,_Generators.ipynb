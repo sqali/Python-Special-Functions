{
  "nbformat": 4,
  "nbformat_minor": 0,
  "metadata": {
    "colab": {
      "provenance": [],
      "collapsed_sections": []
    },
    "kernelspec": {
      "name": "python3",
      "display_name": "Python 3"
    },
    "language_info": {
      "name": "python"
    }
  },
  "cells": [
    {
      "cell_type": "code",
      "execution_count": null,
      "metadata": {
        "id": "yPvviOkLMW4l"
      },
      "outputs": [],
      "source": [
        "import json"
      ]
    },
    {
      "cell_type": "markdown",
      "source": [
        "<h1><b>Working with JSON strings and Files</h1></b>"
      ],
      "metadata": {
        "id": "68QUMLYgXj7t"
      }
    },
    {
      "cell_type": "code",
      "source": [
        "json_string='{\"name\":[\"John\",\"Qaiser\",\"Farhan\"],\"age\":[\"30\",\"45\",\"23\"],\"cars\":[\"Ford\", \"BMW\", \"Fiat\"]}'  # This is a JSON string and we converted it into a dictionary for working with it comfortably"
      ],
      "metadata": {
        "id": "5ym-YUGoMka7"
      },
      "execution_count": null,
      "outputs": []
    },
    {
      "cell_type": "code",
      "source": [
        "data=json.loads(json_string)    # Make sure that you have an s after load as it is a JSON string"
      ],
      "metadata": {
        "id": "JhNPvx7PNZyg"
      },
      "execution_count": null,
      "outputs": []
    },
    {
      "cell_type": "code",
      "source": [
        "print(data['name'][0])\n",
        "print(type(data))"
      ],
      "metadata": {
        "colab": {
          "base_uri": "https://localhost:8080/"
        },
        "id": "skTWU6vWN6Kx",
        "outputId": "a005414b-85a6-4c97-afd4-693de4af2669"
      },
      "execution_count": null,
      "outputs": [
        {
          "output_type": "stream",
          "name": "stdout",
          "text": [
            "John\n",
            "<class 'dict'>\n"
          ]
        }
      ]
    },
    {
      "cell_type": "code",
      "source": [
        "# Adding a new key to this JSON\n",
        "data[\"test\"]=\"True\""
      ],
      "metadata": {
        "id": "GvvNYu94OncI"
      },
      "execution_count": null,
      "outputs": []
    },
    {
      "cell_type": "code",
      "source": [
        "print(data)   # You can see that the test key has been added to the test dictionary but not to the json string\n",
        "print(json_string)"
      ],
      "metadata": {
        "colab": {
          "base_uri": "https://localhost:8080/"
        },
        "id": "ogTS4jQ8PmIJ",
        "outputId": "d5edb576-86d5-4054-e8c8-f6482faba89f"
      },
      "execution_count": null,
      "outputs": [
        {
          "output_type": "stream",
          "name": "stdout",
          "text": [
            "{'name': ['John', 'Qaiser', 'Farhan'], 'age': ['30', '45', '23'], 'cars': ['Ford', 'BMW', 'Fiat'], 'test': 'True'}\n",
            "{\"name\":[\"John\",\"Qaiser\",\"Farhan\"],\"age\":[\"30\",\"45\",\"23\"],\"cars\":[\"Ford\", \"BMW\", \"Fiat\"]}\n"
          ]
        }
      ]
    },
    {
      "cell_type": "code",
      "source": [
        "# Use the below statement to dump the dictionary into the json string\n",
        "# You can either dump it into the new json string or dump it into tbhe old json string\n",
        "# The indent argument value 2 prints the json string in a proper indentation\n",
        "# Similarly you can increase the indentation level as required\n",
        "# You can use the sort keys to sort the JSON, check the output\n",
        "# One highly important thing to mention is that in JSON the boolean value needs to be written in lowercase such as true or false and not True or False\n",
        "\n",
        "new_json=json.dumps(data,indent=2,sort_keys=True)\n",
        "print(new_json)"
      ],
      "metadata": {
        "colab": {
          "base_uri": "https://localhost:8080/"
        },
        "id": "zJw71ci9PodX",
        "outputId": "5b51518f-2db9-4a7f-c8b1-52bc8edd269d"
      },
      "execution_count": null,
      "outputs": [
        {
          "output_type": "stream",
          "name": "stdout",
          "text": [
            "{\n",
            "  \"age\": [\n",
            "    \"30\",\n",
            "    \"45\",\n",
            "    \"23\"\n",
            "  ],\n",
            "  \"cars\": [\n",
            "    \"Ford\",\n",
            "    \"BMW\",\n",
            "    \"Fiat\"\n",
            "  ],\n",
            "  \"name\": [\n",
            "    \"John\",\n",
            "    \"Qaiser\",\n",
            "    \"Farhan\"\n",
            "  ],\n",
            "  \"test\": \"True\"\n",
            "}\n"
          ]
        }
      ]
    },
    {
      "cell_type": "code",
      "source": [
        "# Working with a JSON File\n",
        "\n",
        "with open(\"/content/data.json\",\"r\") as f:\n",
        "  data=json.load(f)\n",
        "\n",
        "data=json.dumps(data,indent=2,sort_keys=True)\n",
        "f.close()\n",
        "print(data)"
      ],
      "metadata": {
        "colab": {
          "base_uri": "https://localhost:8080/"
        },
        "id": "jGjQPfeGQS4x",
        "outputId": "f3085457-7d5c-47e7-f9a6-dc761a1f63ee"
      },
      "execution_count": null,
      "outputs": [
        {
          "output_type": "stream",
          "name": "stdout",
          "text": [
            "{\n",
            "  \"age\": [\n",
            "    \"30\",\n",
            "    \"45\",\n",
            "    \"23\"\n",
            "  ],\n",
            "  \"cars\": [\n",
            "    \"Ford\",\n",
            "    \"BMW\",\n",
            "    \"Fiat\"\n",
            "  ],\n",
            "  \"name\": [\n",
            "    \"John\",\n",
            "    \"Qaiser\",\n",
            "    \"Farhan\"\n",
            "  ],\n",
            "  \"test\": \"True\"\n",
            "}\n"
          ]
        }
      ]
    },
    {
      "cell_type": "code",
      "source": [
        "with open(\"/content/data.json\",\"r\") as f:\n",
        "  data=json.load(f)\n",
        "\n",
        "with open(\"/content/data2.json\",\"w\") as f:\n",
        "  json.dump(data,f,indent=2,sort_keys=True)"
      ],
      "metadata": {
        "id": "LzqkINaJS03X"
      },
      "execution_count": null,
      "outputs": []
    },
    {
      "cell_type": "code",
      "source": [
        "with open(\"/content/data.json\",\"r\") as f:\n",
        "  data=json.load(f)\n",
        "\n",
        "print(data)"
      ],
      "metadata": {
        "colab": {
          "base_uri": "https://localhost:8080/"
        },
        "id": "Rro-WokWVMbW",
        "outputId": "ba62d19c-385b-4296-c042-b59f71126cf1"
      },
      "execution_count": null,
      "outputs": [
        {
          "output_type": "stream",
          "name": "stdout",
          "text": [
            "{'age': ['30', '45', '23'], 'cars': ['Ford', 'BMW', 'Fiat'], 'name': ['John', 'Qaiser', 'Farhan'], 'test': 'True'}\n"
          ]
        }
      ]
    },
    {
      "cell_type": "markdown",
      "source": [
        "<h1><b>Working with Generators</h1></b>"
      ],
      "metadata": {
        "id": "9h1ZmJP5dysU"
      }
    },
    {
      "cell_type": "code",
      "source": [
        "# Generators and iteratorrs are almost the same with some difference in syntax\n",
        "\n",
        "# Iterator is a function that allows us to loop through the elements or any data type without storing them\n",
        "\n",
        "# Another example of iterator is map, refer the example below\n",
        "x=[1,2,3,4,5,6,7,8,9,10]\n",
        "\n",
        "y=map(lambda i:i**2, x)  # Map function doesn't store all the results of the function calls , This function here is actually a generator or an iterator that allows us through all of the results without storing them \n",
        "\n",
        "\n",
        "print(y) # This will not print the values of y but will show the hash id of the map object y\n",
        "\n",
        "# print(y[0]) this will throw an error as the map object is not subscriptable\n",
        "\n",
        "print(list(y))  # List representation of the generator or iterator, we only generated these values when we called this function generator y, it gives the result instantly without storing them\n",
        "\n",
        "# you can confirm this by running this cell multiple times, you will notice that the map object shows different Hash ID every time because it is generated every time we run it and hence proves that we do not store it"
      ],
      "metadata": {
        "colab": {
          "base_uri": "https://localhost:8080/"
        },
        "id": "NgAPqeokd2-m",
        "outputId": "e2c8fee8-07a8-49c3-9292-59208e3651f3"
      },
      "execution_count": null,
      "outputs": [
        {
          "output_type": "stream",
          "name": "stdout",
          "text": [
            "<map object at 0x7f0707dd9b10>\n",
            "[1, 4, 9, 16, 25, 36, 49, 64, 81, 100]\n"
          ]
        }
      ]
    },
    {
      "cell_type": "code",
      "source": [
        "# You can use the next function to check what is the next element that will show up in the map object  # Another alternative for the next function is y.__next__()  - this is also called as dunder method\n",
        "y=map(lambda i:i**2, x)\n",
        "print(next(y))\n",
        "print(next(y))\n",
        "print(next(y))\n",
        "print(next(y))  # After this statement try looping over y, you will observe that it will start looping from 5 to 10 and not 1 to 10 because the next element is 5\n",
        "print(\"***********\")\n",
        "for i in y:    # Literally the for loop function is calling the next function on the iterator object and printing it\n",
        "  print(i)"
      ],
      "metadata": {
        "colab": {
          "base_uri": "https://localhost:8080/"
        },
        "id": "mA3MLA_Yg3GO",
        "outputId": "5814d16b-2dea-4bc1-d07b-a27774ec88fb"
      },
      "execution_count": null,
      "outputs": [
        {
          "output_type": "stream",
          "name": "stdout",
          "text": [
            "1\n",
            "4\n",
            "9\n",
            "16\n",
            "***********\n",
            "25\n",
            "36\n",
            "49\n",
            "64\n",
            "81\n",
            "100\n"
          ]
        }
      ]
    },
    {
      "cell_type": "code",
      "source": [
        "# Another way to print the y elements is \n",
        "\n",
        "y=map(lambda i:i**2, x)\n",
        "\n",
        "while True:\n",
        "  try:\n",
        "    print(next(y))\n",
        "  except:   # here you can also write except StopIteration\n",
        "    print('Done')\n",
        "    break"
      ],
      "metadata": {
        "colab": {
          "base_uri": "https://localhost:8080/"
        },
        "id": "Cc0J9UGDjsOj",
        "outputId": "00583da2-6efa-43b9-c476-b92772ac5f63"
      },
      "execution_count": null,
      "outputs": [
        {
          "output_type": "stream",
          "name": "stdout",
          "text": [
            "1\n",
            "4\n",
            "9\n",
            "16\n",
            "25\n",
            "36\n",
            "49\n",
            "64\n",
            "81\n",
            "100\n",
            "Done\n"
          ]
        }
      ]
    },
    {
      "cell_type": "code",
      "source": [
        "x=range(1,11)\n",
        "print(x)\n",
        "print(next(x))   # This will throw an error"
      ],
      "metadata": {
        "colab": {
          "base_uri": "https://localhost:8080/",
          "height": 217
        },
        "id": "4yAqW7YIlvG1",
        "outputId": "27f0d38f-bfca-4110-d045-d882be6707a8"
      },
      "execution_count": null,
      "outputs": [
        {
          "output_type": "stream",
          "name": "stdout",
          "text": [
            "range(1, 11)\n"
          ]
        },
        {
          "output_type": "error",
          "ename": "TypeError",
          "evalue": "ignored",
          "traceback": [
            "\u001b[0;31m---------------------------------------------------------------------------\u001b[0m",
            "\u001b[0;31mTypeError\u001b[0m                                 Traceback (most recent call last)",
            "\u001b[0;32m<ipython-input-15-9161071279c7>\u001b[0m in \u001b[0;36m<module>\u001b[0;34m\u001b[0m\n\u001b[1;32m      1\u001b[0m \u001b[0mx\u001b[0m\u001b[0;34m=\u001b[0m\u001b[0mrange\u001b[0m\u001b[0;34m(\u001b[0m\u001b[0;36m1\u001b[0m\u001b[0;34m,\u001b[0m\u001b[0;36m11\u001b[0m\u001b[0;34m)\u001b[0m\u001b[0;34m\u001b[0m\u001b[0;34m\u001b[0m\u001b[0m\n\u001b[1;32m      2\u001b[0m \u001b[0mprint\u001b[0m\u001b[0;34m(\u001b[0m\u001b[0mx\u001b[0m\u001b[0;34m)\u001b[0m\u001b[0;34m\u001b[0m\u001b[0;34m\u001b[0m\u001b[0m\n\u001b[0;32m----> 3\u001b[0;31m \u001b[0mprint\u001b[0m\u001b[0;34m(\u001b[0m\u001b[0mnext\u001b[0m\u001b[0;34m(\u001b[0m\u001b[0mx\u001b[0m\u001b[0;34m)\u001b[0m\u001b[0;34m)\u001b[0m   \u001b[0;31m# This will throw an error\u001b[0m\u001b[0;34m\u001b[0m\u001b[0;34m\u001b[0m\u001b[0m\n\u001b[0m",
            "\u001b[0;31mTypeError\u001b[0m: 'range' object is not an iterator"
          ]
        }
      ]
    },
    {
      "cell_type": "code",
      "source": [
        "x=range(1,11)\n",
        "\n",
        "print(next(iter(x))) # This will not throw an error instead will give the element that is next in number   # This is actually how the for loop works when we use for i in array, it calls the iter function and it gives us the next data in sequence"
      ],
      "metadata": {
        "colab": {
          "base_uri": "https://localhost:8080/"
        },
        "id": "19zt5K-imBn0",
        "outputId": "fd0ef25e-2e50-4f9d-e267-c3f0e53474df"
      },
      "execution_count": null,
      "outputs": [
        {
          "output_type": "stream",
          "name": "stdout",
          "text": [
            "1\n"
          ]
        }
      ]
    },
    {
      "cell_type": "code",
      "source": [
        "# Example of Generator\n",
        "\n",
        "def gen(n):\n",
        "  for i in range(n):   # What yield function does is as soon as it hits the yield keyword it pauses, saves the function at the particular moment, returns the i value to the function caller\n",
        "    yield i            # The function caller prints the i value, goes back to the generator and again continues from the saved checkpoint\n",
        "\n",
        "for i in gen(5):\n",
        "  print(i)"
      ],
      "metadata": {
        "colab": {
          "base_uri": "https://localhost:8080/"
        },
        "id": "YkGui5kamlQs",
        "outputId": "f2194405-9828-453b-ccf3-a671aed8cff9"
      },
      "execution_count": null,
      "outputs": [
        {
          "output_type": "stream",
          "name": "stdout",
          "text": [
            "0\n",
            "1\n",
            "2\n",
            "3\n",
            "4\n"
          ]
        }
      ]
    },
    {
      "cell_type": "code",
      "source": [
        "x=gen(5)    # Generators use case is when you do not care about the before or next data in line but the current data that you are in need of\n",
        "\n",
        "print(next(x))\n",
        "print(next(x))\n",
        "print(next(x))"
      ],
      "metadata": {
        "colab": {
          "base_uri": "https://localhost:8080/"
        },
        "id": "6IjW2k3pol2V",
        "outputId": "a738aaff-0df2-49e1-a39d-b25dcc6eb7a4"
      },
      "execution_count": null,
      "outputs": [
        {
          "output_type": "stream",
          "name": "stdout",
          "text": [
            "0\n",
            "1\n",
            "2\n"
          ]
        }
      ]
    },
    {
      "cell_type": "code",
      "source": [
        "# Generator use case\n",
        "# For example you want to find a word in a file that has billions of words, how could you implement this\n",
        "# First way:\n",
        "#---> You could read the entire file into the memory and check one by one if the word exists in it. However this is not memory efficient\n",
        "# Second way:\n",
        "#---> You read only line or row of the file at a time and check if the word exists in that file, this way it would be quite memory efficient\n",
        "# For the second way refer to tech with tim video of generators, refer the below piece of code\n",
        "\n",
        "def csv_reader(filename):\n",
        "  for row in open(filename):\n",
        "    yield row\n",
        "\n",
        "filename=\"/content/Accenture Data Science Questions.txt\"\n",
        "for i in csv_reader(filename):\n",
        "  if \"clustering\" in i:\n",
        "    print(i)\n",
        "    print(\"Found it\")\n",
        "    break"
      ],
      "metadata": {
        "colab": {
          "base_uri": "https://localhost:8080/"
        },
        "id": "LH6aOGHYpLnU",
        "outputId": "46df3e73-ce95-46cf-92ee-a32e6dbcd05a"
      },
      "execution_count": null,
      "outputs": [
        {
          "output_type": "stream",
          "name": "stdout",
          "text": [
            "14.what is clustering and explain various clustering algorithms\n",
            "\n",
            "Found it\n"
          ]
        }
      ]
    },
    {
      "cell_type": "code",
      "source": [
        "# Generator comprehensions\n",
        "\n",
        "# Creating generators without defining functions\n",
        "\n",
        "x=(i for i in range(10))\n",
        "\n",
        "print(x)  # You get a generator object\n",
        "print(next(x))"
      ],
      "metadata": {
        "colab": {
          "base_uri": "https://localhost:8080/"
        },
        "id": "saVK7g5crL1c",
        "outputId": "fbcb73d7-0834-4ae2-b379-cc6fcdd2cc21"
      },
      "execution_count": null,
      "outputs": [
        {
          "output_type": "stream",
          "name": "stdout",
          "text": [
            "<generator object <genexpr> at 0x7f0707da2d50>\n",
            "0\n"
          ]
        }
      ]
    }
  ]
}