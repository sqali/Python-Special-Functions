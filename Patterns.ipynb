{
  "nbformat": 4,
  "nbformat_minor": 0,
  "metadata": {
    "colab": {
      "provenance": [],
      "collapsed_sections": []
    },
    "kernelspec": {
      "name": "python3",
      "display_name": "Python 3"
    },
    "language_info": {
      "name": "python"
    }
  },
  "cells": [
    {
      "cell_type": "markdown",
      "source": [
        "<h1><font color='red'>Patterns</font></h1>"
      ],
      "metadata": {
        "id": "bbgul9rogE-u"
      }
    },
    {
      "cell_type": "code",
      "source": [
        "n=4*2\n",
        "N=5\n",
        "\n",
        "for i in range(1,n):\n",
        "  for j in range(1,n):\n",
        "    value=N-min(min(i,j),min(n-i,n-j))\n",
        "    print(value,end=\"\") \n",
        "  print('\\n')"
      ],
      "metadata": {
        "colab": {
          "base_uri": "https://localhost:8080/"
        },
        "id": "qEXYa8shgBky",
        "outputId": "4f05110a-1cef-4e6c-8eef-2834dd8cd920"
      },
      "execution_count": null,
      "outputs": [
        {
          "output_type": "stream",
          "name": "stdout",
          "text": [
            "4444444\n",
            "\n",
            "4333334\n",
            "\n",
            "4322234\n",
            "\n",
            "4321234\n",
            "\n",
            "4322234\n",
            "\n",
            "4333334\n",
            "\n",
            "4444444\n",
            "\n"
          ]
        }
      ]
    },
    {
      "cell_type": "code",
      "source": [
        "n=4\n",
        "\n",
        "for i in range(1,(2*n)):\n",
        "\n",
        "  if i>n:\n",
        "    cols=(2*n)-i\n",
        "  else:\n",
        "    cols=i\n",
        "\n",
        "  spaces=n-cols\n",
        "\n",
        "  for j in range(spaces):\n",
        "    print(\" \",end=\"\")\n",
        "  \n",
        "  for k in range(cols,0,-1):\n",
        "    print(k,end=\"\")\n",
        "\n",
        "  if 2<=cols:\n",
        "    for k in range(2,cols+1):\n",
        "      print(k,end=\"\")\n",
        "\n",
        "  print('\\n')"
      ],
      "metadata": {
        "colab": {
          "base_uri": "https://localhost:8080/"
        },
        "id": "qTGy-LYPG7tt",
        "outputId": "a4879a4e-f991-45d7-e0e3-855a231a1710"
      },
      "execution_count": null,
      "outputs": [
        {
          "output_type": "stream",
          "name": "stdout",
          "text": [
            "   1\n",
            "\n",
            "  212\n",
            "\n",
            " 32123\n",
            "\n",
            "4321234\n",
            "\n",
            " 32123\n",
            "\n",
            "  212\n",
            "\n",
            "   1\n",
            "\n"
          ]
        }
      ]
    },
    {
      "cell_type": "code",
      "source": [
        "for i in range(5):\n",
        "  for j in range(5):\n",
        "    print('*',end=\"\")\n",
        "  print(\"\\n\")"
      ],
      "metadata": {
        "id": "5_WXofqAfcXD",
        "colab": {
          "base_uri": "https://localhost:8080/"
        },
        "outputId": "3421b0cc-ea24-4a74-9d8c-ab58ba651050"
      },
      "execution_count": null,
      "outputs": [
        {
          "output_type": "stream",
          "name": "stdout",
          "text": [
            "*****\n",
            "\n",
            "*****\n",
            "\n",
            "*****\n",
            "\n",
            "*****\n",
            "\n",
            "*****\n",
            "\n"
          ]
        }
      ]
    },
    {
      "cell_type": "code",
      "source": [
        "for i in range(1,6):\n",
        "  for j in range(i):\n",
        "    print(\"*\",end=\" \")\n",
        "  print(\"\\n\")"
      ],
      "metadata": {
        "colab": {
          "base_uri": "https://localhost:8080/"
        },
        "id": "LNDoR3WlACnH",
        "outputId": "051a22bb-b823-44c7-d8b8-8491d5e3e9f0"
      },
      "execution_count": null,
      "outputs": [
        {
          "output_type": "stream",
          "name": "stdout",
          "text": [
            "* \n",
            "\n",
            "* * \n",
            "\n",
            "* * * \n",
            "\n",
            "* * * * \n",
            "\n",
            "* * * * * \n",
            "\n"
          ]
        }
      ]
    },
    {
      "cell_type": "code",
      "source": [
        "n=6\n",
        "for i in range(1,n):\n",
        "  for j in range(n-i):\n",
        "    print(\"*\",end=\" \")\n",
        "  print('\\n')"
      ],
      "metadata": {
        "colab": {
          "base_uri": "https://localhost:8080/"
        },
        "id": "k6BnC3mJAgV5",
        "outputId": "51871d40-6a53-4e6b-bd4c-b69d35c66e72"
      },
      "execution_count": null,
      "outputs": [
        {
          "output_type": "stream",
          "name": "stdout",
          "text": [
            "* * * * * \n",
            "\n",
            "* * * * \n",
            "\n",
            "* * * \n",
            "\n",
            "* * \n",
            "\n",
            "* \n",
            "\n"
          ]
        }
      ]
    },
    {
      "cell_type": "code",
      "source": [
        "for i in range(1,6):\n",
        "  for j in range(1,i+1):\n",
        "    print(j,end=\" \")\n",
        "  print('\\n')"
      ],
      "metadata": {
        "colab": {
          "base_uri": "https://localhost:8080/"
        },
        "id": "_Eg8yQvFA5s0",
        "outputId": "36b9f680-0997-4676-d9f1-fb5355a3181d"
      },
      "execution_count": null,
      "outputs": [
        {
          "output_type": "stream",
          "name": "stdout",
          "text": [
            "1 \n",
            "\n",
            "1 2 \n",
            "\n",
            "1 2 3 \n",
            "\n",
            "1 2 3 4 \n",
            "\n",
            "1 2 3 4 5 \n",
            "\n"
          ]
        }
      ]
    },
    {
      "cell_type": "code",
      "source": [
        "n=5\n",
        "\n",
        "for i in range(2*n):\n",
        "  if i>n:\n",
        "    cols=(2*n)-i\n",
        "  else:\n",
        "    cols=i\n",
        "\n",
        "  for j in range(cols):\n",
        "    print(\"*\",end=\" \")\n",
        "\n",
        "  print('\\n')"
      ],
      "metadata": {
        "colab": {
          "base_uri": "https://localhost:8080/"
        },
        "id": "1vf10nELBcou",
        "outputId": "1f48ff5d-166e-401f-d5b0-7d7ff1ecaef5"
      },
      "execution_count": null,
      "outputs": [
        {
          "output_type": "stream",
          "name": "stdout",
          "text": [
            "\n",
            "\n",
            "* \n",
            "\n",
            "* * \n",
            "\n",
            "* * * \n",
            "\n",
            "* * * * \n",
            "\n",
            "* * * * * \n",
            "\n",
            "* * * * \n",
            "\n",
            "* * * \n",
            "\n",
            "* * \n",
            "\n",
            "* \n",
            "\n"
          ]
        }
      ]
    },
    {
      "cell_type": "code",
      "source": [
        "n=5\n",
        "\n",
        "for i in range(1,n+1):\n",
        "  spaces=n-i\n",
        "\n",
        "  for j in range(spaces):\n",
        "    print(\" \",end=\" \")\n",
        "\n",
        "  for j in range(i):\n",
        "    print(\"*\",end=\" \")\n",
        "\n",
        "  print(\"\\n\")"
      ],
      "metadata": {
        "colab": {
          "base_uri": "https://localhost:8080/"
        },
        "id": "PErt3UNADIXb",
        "outputId": "7667a267-5e21-44fc-8bf8-2575f52911c2"
      },
      "execution_count": null,
      "outputs": [
        {
          "output_type": "stream",
          "name": "stdout",
          "text": [
            "        * \n",
            "\n",
            "      * * \n",
            "\n",
            "    * * * \n",
            "\n",
            "  * * * * \n",
            "\n",
            "* * * * * \n",
            "\n"
          ]
        }
      ]
    },
    {
      "cell_type": "code",
      "source": [
        "n=5\n",
        "\n",
        "for i in range(n):\n",
        "  spaces=i\n",
        "\n",
        "  for j in range(spaces):\n",
        "    print(\" \",end=\" \")\n",
        "\n",
        "  for j in range(n-i):\n",
        "    print(\"*\",end=\" \")\n",
        "\n",
        "  print(\"\\n\")"
      ],
      "metadata": {
        "colab": {
          "base_uri": "https://localhost:8080/"
        },
        "id": "VVdoca8YGec3",
        "outputId": "49035ca1-2839-4965-e87b-e62d82edcd33"
      },
      "execution_count": null,
      "outputs": [
        {
          "output_type": "stream",
          "name": "stdout",
          "text": [
            "* * * * * \n",
            "\n",
            "  * * * * \n",
            "\n",
            "    * * * \n",
            "\n",
            "      * * \n",
            "\n",
            "        * \n",
            "\n"
          ]
        }
      ]
    },
    {
      "cell_type": "code",
      "source": [
        "n=5\n",
        "\n",
        "for i in range(1,n+1):\n",
        "  spaces=n-i\n",
        "\n",
        "  for j in range(spaces):\n",
        "    print(\" \",end=\"\")\n",
        "\n",
        "  for j in range((2*i)-1):\n",
        "    print(\"*\",end=\"\")\n",
        "\n",
        "  print(\"\\n\")"
      ],
      "metadata": {
        "colab": {
          "base_uri": "https://localhost:8080/"
        },
        "id": "bWmaX5O9JKt0",
        "outputId": "725f9122-3317-4a80-c3c6-3e5fbf69766e"
      },
      "execution_count": null,
      "outputs": [
        {
          "output_type": "stream",
          "name": "stdout",
          "text": [
            "    *\n",
            "\n",
            "   ***\n",
            "\n",
            "  *****\n",
            "\n",
            " *******\n",
            "\n",
            "*********\n",
            "\n"
          ]
        }
      ]
    },
    {
      "cell_type": "code",
      "source": [
        "n=5\n",
        "k=(2*n)-1\n",
        "\n",
        "for i in range(0,n):\n",
        "  spaces=i\n",
        "\n",
        "  for j in range(spaces):\n",
        "    print(\" \",end=\"\")\n",
        "\n",
        "  for j in range(k,0,-1):\n",
        "    print(\"*\",end=\"\")\n",
        "  k=k-2\n",
        "\n",
        "  print(\"\\n\")"
      ],
      "metadata": {
        "colab": {
          "base_uri": "https://localhost:8080/"
        },
        "id": "er0vof3Jcnt9",
        "outputId": "6d242a2f-aab0-4342-d8ac-bd395d1eeb04"
      },
      "execution_count": null,
      "outputs": [
        {
          "output_type": "stream",
          "name": "stdout",
          "text": [
            "*********\n",
            "\n",
            " *******\n",
            "\n",
            "  *****\n",
            "\n",
            "   ***\n",
            "\n",
            "    *\n",
            "\n"
          ]
        }
      ]
    },
    {
      "cell_type": "code",
      "source": [
        "n=5\n",
        "\n",
        "for i in range(1,n+1):\n",
        "  spaces=n-i\n",
        "\n",
        "  for j in range(spaces):\n",
        "    print(\" \",end=\"\")\n",
        "\n",
        "  for j in range(i):\n",
        "    print(\"* \",end=\"\")\n",
        "\n",
        "  print('\\n')"
      ],
      "metadata": {
        "colab": {
          "base_uri": "https://localhost:8080/"
        },
        "id": "9zvnlSQqogCV",
        "outputId": "f8b4988c-dba2-46ec-95bf-b7c87f048d11"
      },
      "execution_count": null,
      "outputs": [
        {
          "output_type": "stream",
          "name": "stdout",
          "text": [
            "    * \n",
            "\n",
            "   * * \n",
            "\n",
            "  * * * \n",
            "\n",
            " * * * * \n",
            "\n",
            "* * * * * \n",
            "\n"
          ]
        }
      ]
    },
    {
      "cell_type": "code",
      "source": [
        "n=5\n",
        "\n",
        "for i in range(n+1):\n",
        "  spaces=i\n",
        "\n",
        "  for j in range(spaces):\n",
        "    print(\" \",end=\"\" )\n",
        "\n",
        "  for k in range(n-i,-1,-1):\n",
        "    print(\"* \",end=\"\")\n",
        "\n",
        "  print(\"\\n\")"
      ],
      "metadata": {
        "colab": {
          "base_uri": "https://localhost:8080/"
        },
        "id": "cPeyZu4jDEqz",
        "outputId": "10c4374c-1664-4d47-b336-12c738c868a1"
      },
      "execution_count": null,
      "outputs": [
        {
          "output_type": "stream",
          "name": "stdout",
          "text": [
            "* * * * * * \n",
            "\n",
            " * * * * * \n",
            "\n",
            "  * * * * \n",
            "\n",
            "   * * * \n",
            "\n",
            "    * * \n",
            "\n",
            "     * \n",
            "\n"
          ]
        }
      ]
    },
    {
      "cell_type": "code",
      "source": [
        "n=5\n",
        "\n",
        "for i in range(2*n-1):\n",
        "  if i>=n:\n",
        "    cols=i-3\n",
        "    spaces=n-cols\n",
        "  else:\n",
        "    cols=n-i\n",
        "    spaces=i\n",
        "\n",
        "  for j in range(spaces):\n",
        "    print(\" \",end=\"\")\n",
        "\n",
        "  for j in range(cols):\n",
        "    print(\"* \",end=\"\")\n",
        "\n",
        "  print(\"\\n\")"
      ],
      "metadata": {
        "colab": {
          "base_uri": "https://localhost:8080/"
        },
        "id": "9YAK6F-OEO-w",
        "outputId": "e223fb04-06b5-4d35-d501-535e0ef615a7"
      },
      "execution_count": null,
      "outputs": [
        {
          "output_type": "stream",
          "name": "stdout",
          "text": [
            "* * * * * \n",
            "\n",
            " * * * * \n",
            "\n",
            "  * * * \n",
            "\n",
            "   * * \n",
            "\n",
            "    * \n",
            "\n",
            "   * * \n",
            "\n",
            "  * * * \n",
            "\n",
            " * * * * \n",
            "\n",
            "* * * * * \n",
            "\n"
          ]
        }
      ]
    },
    {
      "cell_type": "code",
      "source": [
        "n=7\n",
        "\n",
        "for i in range(n+1):\n",
        "  spaces=n-i\n",
        "\n",
        "  for j in range(spaces):\n",
        "    print(\"  \",end=\"\")\n",
        "\n",
        "  if i==n:\n",
        "    for j in range(2*i-1):\n",
        "      print(\"* \",end=\"\")\n",
        "\n",
        "  elif i<n:\n",
        "    for j in range(2*i-1):\n",
        "      if j==0:\n",
        "        print(\"* \",end=\"\")\n",
        "      elif j==2*i-2:\n",
        "        print(\"* \",end=\"\")\n",
        "      else:\n",
        "        print(\"  \",end=\"\")\n",
        "\n",
        "\n",
        "  print(\"\\n\")"
      ],
      "metadata": {
        "id": "bMxX60kZGdOs",
        "colab": {
          "base_uri": "https://localhost:8080/"
        },
        "outputId": "93312aa7-6341-47de-8446-a08e442aec78"
      },
      "execution_count": null,
      "outputs": [
        {
          "output_type": "stream",
          "name": "stdout",
          "text": [
            "              \n",
            "\n",
            "            * \n",
            "\n",
            "          *   * \n",
            "\n",
            "        *       * \n",
            "\n",
            "      *           * \n",
            "\n",
            "    *               * \n",
            "\n",
            "  *                   * \n",
            "\n",
            "* * * * * * * * * * * * * \n",
            "\n"
          ]
        }
      ]
    },
    {
      "cell_type": "code",
      "source": [
        "n=5\n",
        "k=(2*n)-1\n",
        "\n",
        "for i in range(n+1):\n",
        "  spaces=i\n",
        "\n",
        "  for j in range(spaces):\n",
        "    print(\"  \",end=\"\")\n",
        "\n",
        "  if k==2*n-1:\n",
        "    for j in range(k):\n",
        "      print(\"* \",end=\"\")\n",
        "\n",
        "  elif k<2*n-1:\n",
        "    for j in range(k):\n",
        "      if j==0:\n",
        "        print(\"* \",end=\"\")\n",
        "      elif j==k-1:\n",
        "        print(\"* \",end=\"\")\n",
        "      else:\n",
        "        print(\"  \",end=\"\")\n",
        "\n",
        "  k=k-2\n",
        "  print(\"\\n\")"
      ],
      "metadata": {
        "colab": {
          "base_uri": "https://localhost:8080/"
        },
        "id": "MninO1sfhrA-",
        "outputId": "e8986e7c-8a8d-4adb-f1d0-5a38e86ea907"
      },
      "execution_count": null,
      "outputs": [
        {
          "output_type": "stream",
          "name": "stdout",
          "text": [
            "* * * * * * * * * \n",
            "\n",
            "  *           * \n",
            "\n",
            "    *       * \n",
            "\n",
            "      *   * \n",
            "\n",
            "        * \n",
            "\n",
            "          \n",
            "\n"
          ]
        }
      ]
    },
    {
      "cell_type": "code",
      "source": [
        "n=7\n",
        "k=2*n-1-2\n",
        "\n",
        "for i in range(1,2*n):\n",
        "  if i>=n+1:\n",
        "    spaces=abs(n-i)\n",
        "    cols=k\n",
        "\n",
        "  else:\n",
        "    cols=2*i-1\n",
        "    spaces=n-i\n",
        "\n",
        "  for j in range(spaces):\n",
        "    print(\"  \",end=\"\")\n",
        "\n",
        "  for j in range(cols):\n",
        "    if j==0:\n",
        "      print(\"* \",end=\"\")\n",
        "    elif j==cols-1:\n",
        "      print(\"* \",end=\"\")\n",
        "    else:\n",
        "      print(\"  \",end=\"\")\n",
        "\n",
        "  if i>=n+1:\n",
        "    k=k-2\n",
        "  \n",
        "  print(\"\\n\")"
      ],
      "metadata": {
        "colab": {
          "base_uri": "https://localhost:8080/"
        },
        "id": "2WS9d1sd6Vth",
        "outputId": "f4a983c5-d42b-45df-eb49-cf1953076e45"
      },
      "execution_count": null,
      "outputs": [
        {
          "output_type": "stream",
          "name": "stdout",
          "text": [
            "            * \n",
            "\n",
            "          *   * \n",
            "\n",
            "        *       * \n",
            "\n",
            "      *           * \n",
            "\n",
            "    *               * \n",
            "\n",
            "  *                   * \n",
            "\n",
            "*                       * \n",
            "\n",
            "  *                   * \n",
            "\n",
            "    *               * \n",
            "\n",
            "      *           * \n",
            "\n",
            "        *       * \n",
            "\n",
            "          *   * \n",
            "\n",
            "            * \n",
            "\n"
          ]
        }
      ]
    },
    {
      "cell_type": "code",
      "source": [
        "n=5\n",
        "width=7\n",
        "\n",
        "for i in range(n):\n",
        "  if i==0 or i==n-1:\n",
        "    for j in range(width):\n",
        "      print(\"* \",end=\"\")\n",
        "  else:\n",
        "    for j in range(width):\n",
        "      if j==0 or j==width-1:\n",
        "        print(\"* \",end=\"\")\n",
        "      else:\n",
        "        print(\"  \",end=\"\")\n",
        "\n",
        "  print(\"\\n\")"
      ],
      "metadata": {
        "colab": {
          "base_uri": "https://localhost:8080/"
        },
        "id": "hTfYJQzKDvdL",
        "outputId": "94bc6095-1225-4084-dcaa-39b888a491d6"
      },
      "execution_count": null,
      "outputs": [
        {
          "output_type": "stream",
          "name": "stdout",
          "text": [
            "* * * * * * * \n",
            "\n",
            "*           * \n",
            "\n",
            "*           * \n",
            "\n",
            "*           * \n",
            "\n",
            "* * * * * * * \n",
            "\n"
          ]
        }
      ]
    },
    {
      "cell_type": "code",
      "source": [
        "n=8\n",
        "\n",
        "for i in range(1,n+1):\n",
        "  cols=(n+1)-i\n",
        "\n",
        "  for j in range(cols):\n",
        "    print(i ,end=\"\")\n",
        "\n",
        "  print(\"\\n\")"
      ],
      "metadata": {
        "colab": {
          "base_uri": "https://localhost:8080/"
        },
        "id": "nZlVbLwIpwWy",
        "outputId": "9ed510c1-da87-42d0-f0ca-97b3e42e860f"
      },
      "execution_count": null,
      "outputs": [
        {
          "output_type": "stream",
          "name": "stdout",
          "text": [
            "11111111\n",
            "\n",
            "2222222\n",
            "\n",
            "333333\n",
            "\n",
            "44444\n",
            "\n",
            "5555\n",
            "\n",
            "666\n",
            "\n",
            "77\n",
            "\n",
            "8\n",
            "\n"
          ]
        }
      ]
    },
    {
      "cell_type": "code",
      "source": [
        "n=5\n",
        "k=1\n",
        "\n",
        "for i in range(1,n+1):\n",
        "  for j in range(k,k+i):\n",
        "    print(str(j)+ \" \",end=\"\")\n",
        "\n",
        "  k=k+i\n",
        "  print(\"\\n\")"
      ],
      "metadata": {
        "colab": {
          "base_uri": "https://localhost:8080/"
        },
        "id": "FhzhqYu1v0nY",
        "outputId": "099151a9-f41e-45c6-f4ad-40fd496cb64b"
      },
      "execution_count": null,
      "outputs": [
        {
          "output_type": "stream",
          "name": "stdout",
          "text": [
            "1 \n",
            "\n",
            "2 3 \n",
            "\n",
            "4 5 6 \n",
            "\n",
            "7 8 9 10 \n",
            "\n",
            "11 12 13 14 15 \n",
            "\n"
          ]
        }
      ]
    },
    {
      "cell_type": "code",
      "source": [
        "n=5\n",
        "k=1\n",
        "\n",
        "for i in range(1,n+1):\n",
        "  if i%2==0:\n",
        "    k=0\n",
        "  else:\n",
        "    k=1\n",
        "\n",
        "  for j in range(i):\n",
        "    print(str(k)+\" \",end=\"\")\n",
        "    if k==0:\n",
        "      k=1\n",
        "    else:\n",
        "      k=0\n",
        "\n",
        "  print(\"\\n\")"
      ],
      "metadata": {
        "colab": {
          "base_uri": "https://localhost:8080/"
        },
        "id": "KNz8LZ1W0C64",
        "outputId": "3887823b-93c0-45b3-b954-0080d536245b"
      },
      "execution_count": null,
      "outputs": [
        {
          "output_type": "stream",
          "name": "stdout",
          "text": [
            "1 \n",
            "\n",
            "0 1 \n",
            "\n",
            "1 0 1 \n",
            "\n",
            "0 1 0 1 \n",
            "\n",
            "1 0 1 0 1 \n",
            "\n"
          ]
        }
      ]
    },
    {
      "cell_type": "code",
      "source": [
        "n=7\n",
        "width=5\n",
        "\n",
        "for i in range(1,n+1):\n",
        "  spaces=n-i\n",
        "  for j in range(spaces):\n",
        "    print(\" \",end=\"\")\n",
        "\n",
        "  if i==1 or i==n:\n",
        "    for j in range(width):\n",
        "      print(\"* \",end=\"\")\n",
        "\n",
        "  else:\n",
        "    for j in range(width):\n",
        "      if j==0 or j==width-1:\n",
        "        print(\"* \",end=\"\")\n",
        "      else:\n",
        "        print(\"  \",end=\"\")\n",
        "  print(\"\\n\")"
      ],
      "metadata": {
        "id": "lAJ1qZNy1tNY",
        "colab": {
          "base_uri": "https://localhost:8080/"
        },
        "outputId": "22080f1e-69e0-464e-dbe0-f1273856aa57"
      },
      "execution_count": null,
      "outputs": [
        {
          "output_type": "stream",
          "name": "stdout",
          "text": [
            "      * * * * * \n",
            "\n",
            "     *       * \n",
            "\n",
            "    *       * \n",
            "\n",
            "   *       * \n",
            "\n",
            "  *       * \n",
            "\n",
            " *       * \n",
            "\n",
            "* * * * * \n",
            "\n"
          ]
        }
      ]
    },
    {
      "cell_type": "code",
      "source": [
        "n=5\n",
        "\n",
        "for i in range(n):\n",
        "  \n",
        "  for j in range(64+n-i,64,-1):\n",
        "    print(chr(j)+\" \",end=\"\")\n",
        "\n",
        "  print(\"\\n\")"
      ],
      "metadata": {
        "colab": {
          "base_uri": "https://localhost:8080/"
        },
        "id": "aZ1XXKY4pQAo",
        "outputId": "4ee2ddfb-fa64-4713-bb8e-0a1e275efca0"
      },
      "execution_count": null,
      "outputs": [
        {
          "output_type": "stream",
          "name": "stdout",
          "text": [
            "E D C B A \n",
            "\n",
            "D C B A \n",
            "\n",
            "C B A \n",
            "\n",
            "B A \n",
            "\n",
            "A \n",
            "\n"
          ]
        }
      ]
    },
    {
      "cell_type": "code",
      "source": [
        "n=5\n",
        "\n",
        "for i in range(n):\n",
        "\n",
        "  for j in range(64+n-i,64+n+1):\n",
        "    print(chr(j)+\" \",end=\"\")\n",
        "\n",
        "  print(\"\\n\") "
      ],
      "metadata": {
        "colab": {
          "base_uri": "https://localhost:8080/"
        },
        "id": "yvNMRhlJsnz7",
        "outputId": "a35d163a-4b65-45af-bd33-df75975b5586"
      },
      "execution_count": null,
      "outputs": [
        {
          "output_type": "stream",
          "name": "stdout",
          "text": [
            "E \n",
            "\n",
            "D E \n",
            "\n",
            "C D E \n",
            "\n",
            "B C D E \n",
            "\n",
            "A B C D E \n",
            "\n"
          ]
        }
      ]
    },
    {
      "cell_type": "code",
      "source": [
        "n=6\n",
        "k=65\n",
        "flag=0\n",
        "\n",
        "for i in range(1,n+1):\n",
        "  for j in range(k,k+i):\n",
        "    if flag==0:\n",
        "      print(chr(j).lower()+\" \",end=\"\")\n",
        "      flag=1\n",
        "    else:\n",
        "      print(chr(j).upper()+\" \",end=\"\")\n",
        "      flag=0\n",
        "  k=k+i\n",
        "\n",
        "  \n",
        "  print(\"\\n\")"
      ],
      "metadata": {
        "colab": {
          "base_uri": "https://localhost:8080/"
        },
        "id": "S-WhnF-kw5GE",
        "outputId": "88c5895c-4203-41d3-8e07-b73ca6eee656"
      },
      "execution_count": null,
      "outputs": [
        {
          "output_type": "stream",
          "name": "stdout",
          "text": [
            "a \n",
            "\n",
            "B c \n",
            "\n",
            "D e F \n",
            "\n",
            "g H i J \n",
            "\n",
            "k L m N o \n",
            "\n",
            "P q R s T u \n",
            "\n"
          ]
        }
      ]
    },
    {
      "cell_type": "code",
      "source": [
        "n=9\n",
        "k=1\n",
        "\n",
        "for i in range(2*n-1):\n",
        "\n",
        "  if i>=n:\n",
        "    k=k-1\n",
        "    for j in range(2*n):\n",
        "      if j>=k and j<=2*n-1-k:\n",
        "        print(\" \",end=\"\")\n",
        "      else:\n",
        "        print(\"*\",end=\"\")\n",
        "    \n",
        "  else:\n",
        "    for j in range(2*n):\n",
        "      if j>=k and j<=2*n-1-k:\n",
        "        print(\" \",end=\"\")\n",
        "      else:\n",
        "        print(\"*\",end=\"\")\n",
        "    if i+1==n:\n",
        "      pass\n",
        "    else:\n",
        "      k=k+1\n",
        "\n",
        "  print(\"\\n\")"
      ],
      "metadata": {
        "colab": {
          "base_uri": "https://localhost:8080/"
        },
        "id": "tMa50_-z4hV-",
        "outputId": "a0d4909d-d6dc-4e97-9212-6060b46172b5"
      },
      "execution_count": null,
      "outputs": [
        {
          "output_type": "stream",
          "name": "stdout",
          "text": [
            "*                *\n",
            "\n",
            "**              **\n",
            "\n",
            "***            ***\n",
            "\n",
            "****          ****\n",
            "\n",
            "*****        *****\n",
            "\n",
            "******      ******\n",
            "\n",
            "*******    *******\n",
            "\n",
            "********  ********\n",
            "\n",
            "******************\n",
            "\n",
            "********  ********\n",
            "\n",
            "*******    *******\n",
            "\n",
            "******      ******\n",
            "\n",
            "*****        *****\n",
            "\n",
            "****          ****\n",
            "\n",
            "***            ***\n",
            "\n",
            "**              **\n",
            "\n",
            "*                *\n",
            "\n"
          ]
        }
      ]
    },
    {
      "cell_type": "code",
      "source": [
        "n=5\n",
        "\n",
        "for i in range(1,n+1):\n",
        "  spaces=(n)-i\n",
        "                                                                                                                                                                                                                                                                                                                                                                                                                                                                                                                                                                                                                                                                                                   \n",
        "  for k in range(1,i+1):                                         \n",
        "    print(str(k)+\" \",end=\"\")\n",
        "\n",
        "  for k in range(spaces):\n",
        "    print(\"  \",end=\"\")\n",
        "\n",
        "  for k in range(spaces):\n",
        "    print(\"  \",end=\"\")\n",
        "\n",
        "  for k in range(i,0,-1):\n",
        "    print(str(k)+\" \",end=\"\")\n",
        "\n",
        "  print(\"\\n\")"
      ],
      "metadata": {
        "id": "oi4TAXdDhhq9",
        "colab": {
          "base_uri": "https://localhost:8080/"
        },
        "outputId": "4a454f93-5974-4f12-8b10-c54f25fed1fc"
      },
      "execution_count": null,
      "outputs": [
        {
          "output_type": "stream",
          "name": "stdout",
          "text": [
            "1                 1 \n",
            "\n",
            "1 2             2 1 \n",
            "\n",
            "1 2 3         3 2 1 \n",
            "\n",
            "1 2 3 4     4 3 2 1 \n",
            "\n",
            "1 2 3 4 5 5 4 3 2 1 \n",
            "\n"
          ]
        }
      ]
    },
    {
      "cell_type": "code",
      "source": [
        "n=5\n",
        "\n",
        "for i in range(2*n):\n",
        "  if i>=n:\n",
        "    spaces=2*n-i\n",
        "    cols=n-spaces\n",
        "\n",
        "    for j in range(cols):\n",
        "      print(\"* \",end=\"\")\n",
        "\n",
        "    for j in range(spaces):\n",
        "      print(\"# \",end=\"\")\n",
        "\n",
        "  else:\n",
        "    spaces=i\n",
        "    cols=n-spaces\n",
        "\n",
        "    for j in range(cols,-1,-1):\n",
        "      print(\"* \",end=\"\")\n",
        "\n",
        "    for j in range(spaces):\n",
        "      print(\"# \",end=\"\")\n",
        "\n",
        "  print(\"\\n\")"
      ],
      "metadata": {
        "colab": {
          "base_uri": "https://localhost:8080/"
        },
        "id": "VRWk5Ms4s_9-",
        "outputId": "41525645-380c-4e24-f1e5-2a46c7d34487"
      },
      "execution_count": null,
      "outputs": [
        {
          "output_type": "stream",
          "name": "stdout",
          "text": [
            "* * * * * * \n",
            "\n",
            "* * * * * # \n",
            "\n",
            "* * * * # # \n",
            "\n",
            "* * * # # # \n",
            "\n",
            "* * # # # # \n",
            "\n",
            "# # # # # \n",
            "\n",
            "* # # # # \n",
            "\n",
            "* * # # # \n",
            "\n",
            "* * * # # \n",
            "\n",
            "* * * * # \n",
            "\n"
          ]
        }
      ]
    },
    {
      "cell_type": "code",
      "source": [
        "print(chr(65))"
      ],
      "metadata": {
        "colab": {
          "base_uri": "https://localhost:8080/"
        },
        "id": "HkeQ1FBMyz9b",
        "outputId": "b5c0601c-7af7-4a8a-ccba-b4efac8419e7"
      },
      "execution_count": null,
      "outputs": [
        {
          "output_type": "stream",
          "name": "stdout",
          "text": [
            "A\n"
          ]
        }
      ]
    },
    {
      "cell_type": "code",
      "source": [
        "n=int(input())\n",
        "count=65\n",
        "\n",
        "for i in range(n):\n",
        "\n",
        "  for j in range(count,count+i+1):\n",
        "    print(chr(j),end=\"\")\n",
        "\n",
        "  print(\"\\n\")\n",
        "  count+=1"
      ],
      "metadata": {
        "id": "JITD-URIy4zD",
        "colab": {
          "base_uri": "https://localhost:8080/"
        },
        "outputId": "99f1353a-cddd-46c7-8fa0-2c11184c46e2"
      },
      "execution_count": null,
      "outputs": [
        {
          "output_type": "stream",
          "name": "stdout",
          "text": [
            "A\n",
            "\n",
            "BC\n",
            "\n",
            "CDE\n",
            "\n",
            "DEFG\n",
            "\n",
            "EFGHI\n",
            "\n",
            "FGHIJK\n",
            "\n"
          ]
        }
      ]
    },
    {
      "cell_type": "code",
      "source": [
        "## Read input as specified in the question.\n",
        "## Print output as specified in the question. # bhaiya code\n",
        "n=int(input())\n",
        "i=n\n",
        "k=1\n",
        "while i>=1:\n",
        "  j=1\n",
        "  startingc = chr(ord(chr(n+63))+i-n)\n",
        "  while j<=k:\n",
        "    charp = chr(ord(startingc)+j)\n",
        "    print(charp, end='')\n",
        "    j+=1\n",
        "  k+=1\n",
        "  print()\n",
        "  i-=1"
      ],
      "metadata": {
        "colab": {
          "base_uri": "https://localhost:8080/"
        },
        "id": "UYJRkq08ASPT",
        "outputId": "25971888-97a8-4f0f-8615-da44111e0c58"
      },
      "execution_count": null,
      "outputs": [
        {
          "output_type": "stream",
          "name": "stdout",
          "text": [
            "5\n",
            "E\n",
            "DE\n",
            "CDE\n",
            "BCDE\n",
            "ABCDE\n"
          ]
        }
      ]
    },
    {
      "cell_type": "code",
      "source": [
        "E\n",
        "DE\n",
        "CDE\n",
        "BCDE\n",
        "ABCDE"
      ],
      "metadata": {
        "id": "pzyVppzOIalm"
      },
      "execution_count": null,
      "outputs": []
    },
    {
      "cell_type": "code",
      "source": [
        "n=5\n",
        "count=64+n\n",
        "\n",
        "for i in range(n):\n",
        "\n",
        "  for j in range(count-i,count+1):\n",
        "    print(chr(j),end=\"\") \n",
        "\n",
        "  print(\"\\n\")"
      ],
      "metadata": {
        "colab": {
          "base_uri": "https://localhost:8080/"
        },
        "id": "wEg4wjRuIcIF",
        "outputId": "72b2f9a4-d494-4d30-c671-99cdbe531466"
      },
      "execution_count": null,
      "outputs": [
        {
          "output_type": "stream",
          "name": "stdout",
          "text": [
            "E\n",
            "\n",
            "DE\n",
            "\n",
            "CDE\n",
            "\n",
            "BCDE\n",
            "\n",
            "ABCDE\n",
            "\n"
          ]
        }
      ]
    },
    {
      "cell_type": "code",
      "source": [
        "## Read input as specified in the question.\n",
        "## Print output as specified in the question.\n",
        "n=int(input())\n",
        "i=1\n",
        "while i<=n:\n",
        "  j=1\n",
        "  while j<=i:\n",
        "    if i==1:\n",
        "      print(1, end='')\n",
        "    elif j==1 or j==i:\n",
        "      print(i-1, end='')\n",
        "    else:\n",
        "      print(0, end='')\n",
        "    j+=1\n",
        "  print()\n",
        "  i+=1"
      ],
      "metadata": {
        "id": "2HzDHlaLN7eU"
      },
      "execution_count": null,
      "outputs": []
    },
    {
      "cell_type": "code",
      "source": [
        "1\n",
        "11\n",
        "202\n",
        "3003"
      ],
      "metadata": {
        "id": "0ZVxSJDfZe38"
      },
      "execution_count": null,
      "outputs": []
    },
    {
      "cell_type": "code",
      "source": [
        "n=5\n",
        "\n",
        "for i in range(n):\n",
        "  if i==0:\n",
        "    print(1,end=\"\")\n",
        "  elif i>0:\n",
        "    for j in range(i+1):\n",
        "      if i>=2:\n",
        "        if j==0 or j==i:\n",
        "          print(i,end=\"\")\n",
        "        else:\n",
        "          print(0,end=\"\")\n",
        "      else:\n",
        "        print(i,end=\"\")\n",
        "\n",
        "  print(\"\\n\")"
      ],
      "metadata": {
        "colab": {
          "base_uri": "https://localhost:8080/"
        },
        "id": "Hck1XYYslfCS",
        "outputId": "aadd6ca0-115e-4309-e4c9-39c113435cd5"
      },
      "execution_count": null,
      "outputs": [
        {
          "output_type": "stream",
          "name": "stdout",
          "text": [
            "1\n",
            "\n",
            "11\n",
            "\n",
            "202\n",
            "\n",
            "3003\n",
            "\n",
            "40004\n",
            "\n"
          ]
        }
      ]
    },
    {
      "cell_type": "code",
      "source": [
        "## Read input as specified in the question.\n",
        "## Print output as specified in the question.\n",
        "n=int(input())\n",
        "i=1\n",
        "while i<=n:\n",
        "  j=1\n",
        "  while j<=i:\n",
        "    if i==1 or j==1 or j==i:\n",
        "      print(1, end='')\n",
        "    else:\n",
        "      print(2, end='')\n",
        "    j+=1\n",
        "  print()\n",
        "  i+=1"
      ],
      "metadata": {
        "id": "hqQschrZZhJz"
      },
      "execution_count": null,
      "outputs": []
    },
    {
      "cell_type": "code",
      "source": [
        "1\n",
        "11\n",
        "121\n",
        "1221"
      ],
      "metadata": {
        "id": "E4xV6H3HZjB0"
      },
      "execution_count": null,
      "outputs": []
    },
    {
      "cell_type": "code",
      "source": [
        "n=4\n",
        "\n",
        "for i in range(4):\n",
        "  if i==0:\n",
        "    print(1,end=\"\")\n",
        "  elif i>0:\n",
        "    for j in range(i+1):\n",
        "      if i>=2:\n",
        "        if j==0 or j==i:\n",
        "          print(1,end=\"\")\n",
        "        else:\n",
        "          print(2,end=\"\")\n",
        "      else:\n",
        "        print(1,end=\"\")\n",
        "\n",
        "  print(\"\\n\")"
      ],
      "metadata": {
        "colab": {
          "base_uri": "https://localhost:8080/"
        },
        "id": "Gs12X8XpZjD6",
        "outputId": "c46a5a6d-042c-4f39-a3c4-62433e59fc1e"
      },
      "execution_count": null,
      "outputs": [
        {
          "output_type": "stream",
          "name": "stdout",
          "text": [
            "1\n",
            "\n",
            "11\n",
            "\n",
            "121\n",
            "\n",
            "1221\n",
            "\n"
          ]
        }
      ]
    },
    {
      "cell_type": "code",
      "source": [
        "n=7\n",
        "peak=int(n/2)+1\n",
        "\n",
        "for i in range(n+1):\n",
        "    \n",
        "  if i==0:\n",
        "      continue\n",
        "\n",
        "  if i>peak:\n",
        "    spaces=i-peak\n",
        "    cols=n-(2*spaces)\n",
        "\n",
        "    for j in range(spaces):\n",
        "      print(\"  \",end=\"\")\n",
        "\n",
        "    for j in range(cols):\n",
        "      print(\"* \",end=\"\")\n",
        "    \n",
        "  else:\n",
        "    cols=2*i-1\n",
        "    spaces=peak-i\n",
        "\n",
        "    for j in range(spaces):\n",
        "      print(\"  \",end=\"\")\n",
        "\n",
        "    for j in range(cols):\n",
        "      print(\"* \",end=\"\")\n",
        "\n",
        "  print(\"\\n\")"
      ],
      "metadata": {
        "colab": {
          "base_uri": "https://localhost:8080/"
        },
        "id": "9NjRbCrHHdrs",
        "outputId": "994bdc81-0b89-4685-eb43-178b1f2987f3"
      },
      "execution_count": null,
      "outputs": [
        {
          "output_type": "stream",
          "name": "stdout",
          "text": [
            "      * \n",
            "\n",
            "    * * * \n",
            "\n",
            "  * * * * * \n",
            "\n",
            "* * * * * * * \n",
            "\n",
            "  * * * * * \n",
            "\n",
            "    * * * \n",
            "\n",
            "      * \n",
            "\n"
          ]
        }
      ]
    },
    {
      "cell_type": "code",
      "source": [
        "#  *000*000*\n",
        "#  0*00*00*0\n",
        "#  00*0*0*00\n",
        "#  000***000\n",
        "\n",
        "n=4\n",
        "\n",
        "for i in range(n):\n",
        "    \n",
        "    for j in range(2*n+1):\n",
        "        if j==i:\n",
        "            print(\"* \",end=\"\")\n",
        "        elif  j==2*n-i:\n",
        "            print(\"* \",end=\"\")\n",
        "        elif j==n:\n",
        "            print(\"* \",end=\"\")\n",
        "        else:\n",
        "            print(str(0)+\" \",end=\"\")\n",
        "            \n",
        "    print(\"\\n\")"
      ],
      "metadata": {
        "id": "fqX9DcblUZZv",
        "outputId": "5c83a6cb-d8ca-4908-bce0-e15af677ef45",
        "colab": {
          "base_uri": "https://localhost:8080/"
        }
      },
      "execution_count": null,
      "outputs": [
        {
          "output_type": "stream",
          "name": "stdout",
          "text": [
            "* 0 0 0 * 0 0 0 * \n",
            "\n",
            "0 * 0 0 * 0 0 * 0 \n",
            "\n",
            "0 0 * 0 * 0 * 0 0 \n",
            "\n",
            "0 0 0 * * * 0 0 0 \n",
            "\n"
          ]
        }
      ]
    }
  ]
}